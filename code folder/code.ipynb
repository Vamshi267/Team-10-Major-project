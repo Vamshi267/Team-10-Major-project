{
 "cells": [
  {
   "cell_type": "code",
   "execution_count": 1,
   "metadata": {},
   "outputs": [],
   "source": [
    "import warnings\n",
    "warnings.filterwarnings('ignore')"
   ]
  },
  {
   "cell_type": "code",
   "execution_count": 2,
   "metadata": {},
   "outputs": [],
   "source": [
    "import tensorflow as tf\n",
    "import pandas as pd\n",
    "import numpy as np\n",
    "import sklearn\n",
    "from keras.models import Sequential, load_model\n",
    "from sklearn.model_selection import train_test_split\n",
    "from sklearn.linear_model import LogisticRegression\n",
    "from sklearn import preprocessing\n",
    "from sklearn.preprocessing import LabelEncoder, StandardScaler\n",
    "from sklearn.metrics import confusion_matrix\n",
    "from keras.utils import np_utils"
   ]
  },
  {
   "cell_type": "code",
   "execution_count": 3,
   "metadata": {},
   "outputs": [],
   "source": [
    "df = pd.read_csv('NF-ToN-IoT.csv')\n",
    "#df.drop(df.loc[df['Label'] == 'Label'].index, inplace=True)"
   ]
  },
  {
   "cell_type": "code",
   "execution_count": 5,
   "metadata": {},
   "outputs": [
    {
     "data": {
      "text/plain": [
       "Index(['IPV4_SRC_ADDR', 'L4_SRC_PORT', 'IPV4_DST_ADDR', 'L4_DST_PORT',\n",
       "       'PROTOCOL', 'L7_PROTO', 'IN_BYTES', 'OUT_BYTES', 'IN_PKTS', 'OUT_PKTS',\n",
       "       'TCP_FLAGS', 'FLOW_DURATION_MILLISECONDS', 'Label', 'Attack'],\n",
       "      dtype='object')"
      ]
     },
     "execution_count": 5,
     "metadata": {},
     "output_type": "execute_result"
    }
   ],
   "source": [
    "df.columns"
   ]
  },
  {
   "cell_type": "code",
   "execution_count": 6,
   "metadata": {},
   "outputs": [
    {
     "data": {
      "text/plain": [
       "1    92540\n",
       "0     7460\n",
       "Name: Label, dtype: int64"
      ]
     },
     "execution_count": 6,
     "metadata": {},
     "output_type": "execute_result"
    }
   ],
   "source": [
    "df.Label.value_counts()"
   ]
  },
  {
   "cell_type": "code",
   "execution_count": 7,
   "metadata": {},
   "outputs": [
    {
     "data": {
      "text/plain": [
       "injection    46556\n",
       "password     21051\n",
       "ddos         18854\n",
       "Benign        7460\n",
       "scanning      5166\n",
       "dos            906\n",
       "mitm             7\n",
       "Name: Attack, dtype: int64"
      ]
     },
     "execution_count": 7,
     "metadata": {},
     "output_type": "execute_result"
    }
   ],
   "source": [
    "df.Attack.value_counts()"
   ]
  },
  {
   "cell_type": "code",
   "execution_count": 8,
   "metadata": {},
   "outputs": [],
   "source": [
    "df = df.drop(columns=['IPV4_SRC_ADDR', 'IPV4_DST_ADDR'])"
   ]
  },
  {
   "cell_type": "code",
   "execution_count": 9,
   "metadata": {},
   "outputs": [
    {
     "name": "stdout",
     "output_type": "stream",
     "text": [
      "0 rows with at least one NaN to remove\n"
     ]
    }
   ],
   "source": [
    "df.replace([np.inf, -np.inf], np.nan, inplace=True)    \n",
    "print(df.isna().any(axis=1).sum(), \"rows with at least one NaN to remove\")\n",
    "df.dropna(inplace=True)"
   ]
  },
  {
   "cell_type": "code",
   "execution_count": 10,
   "metadata": {},
   "outputs": [
    {
     "name": "stdout",
     "output_type": "stream",
     "text": [
      "192 fully duplicate rows to remove\n"
     ]
    }
   ],
   "source": [
    "print(df.duplicated().sum(), \"fully duplicate rows to remove\")\n",
    "df.drop_duplicates(inplace=True)\n",
    "df.reset_index(inplace=True, drop=True)"
   ]
  },
  {
   "cell_type": "code",
   "execution_count": 11,
   "metadata": {},
   "outputs": [
    {
     "data": {
      "text/html": [
       "<div>\n",
       "<style scoped>\n",
       "    .dataframe tbody tr th:only-of-type {\n",
       "        vertical-align: middle;\n",
       "    }\n",
       "\n",
       "    .dataframe tbody tr th {\n",
       "        vertical-align: top;\n",
       "    }\n",
       "\n",
       "    .dataframe thead th {\n",
       "        text-align: right;\n",
       "    }\n",
       "</style>\n",
       "<table border=\"1\" class=\"dataframe\">\n",
       "  <thead>\n",
       "    <tr style=\"text-align: right;\">\n",
       "      <th></th>\n",
       "      <th>L4_SRC_PORT</th>\n",
       "      <th>L4_DST_PORT</th>\n",
       "      <th>PROTOCOL</th>\n",
       "      <th>L7_PROTO</th>\n",
       "      <th>IN_BYTES</th>\n",
       "      <th>OUT_BYTES</th>\n",
       "      <th>IN_PKTS</th>\n",
       "      <th>OUT_PKTS</th>\n",
       "      <th>TCP_FLAGS</th>\n",
       "      <th>FLOW_DURATION_MILLISECONDS</th>\n",
       "      <th>Label</th>\n",
       "      <th>Attack</th>\n",
       "    </tr>\n",
       "  </thead>\n",
       "  <tbody>\n",
       "    <tr>\n",
       "      <th>0</th>\n",
       "      <td>63318</td>\n",
       "      <td>443</td>\n",
       "      <td>6</td>\n",
       "      <td>91.00</td>\n",
       "      <td>181</td>\n",
       "      <td>165</td>\n",
       "      <td>2</td>\n",
       "      <td>1</td>\n",
       "      <td>24</td>\n",
       "      <td>327</td>\n",
       "      <td>0</td>\n",
       "      <td>Benign</td>\n",
       "    </tr>\n",
       "    <tr>\n",
       "      <th>1</th>\n",
       "      <td>57442</td>\n",
       "      <td>15600</td>\n",
       "      <td>17</td>\n",
       "      <td>0.00</td>\n",
       "      <td>63</td>\n",
       "      <td>0</td>\n",
       "      <td>1</td>\n",
       "      <td>0</td>\n",
       "      <td>0</td>\n",
       "      <td>0</td>\n",
       "      <td>0</td>\n",
       "      <td>Benign</td>\n",
       "    </tr>\n",
       "    <tr>\n",
       "      <th>2</th>\n",
       "      <td>57452</td>\n",
       "      <td>15600</td>\n",
       "      <td>17</td>\n",
       "      <td>0.00</td>\n",
       "      <td>63</td>\n",
       "      <td>0</td>\n",
       "      <td>1</td>\n",
       "      <td>0</td>\n",
       "      <td>0</td>\n",
       "      <td>0</td>\n",
       "      <td>0</td>\n",
       "      <td>Benign</td>\n",
       "    </tr>\n",
       "    <tr>\n",
       "      <th>3</th>\n",
       "      <td>138</td>\n",
       "      <td>138</td>\n",
       "      <td>17</td>\n",
       "      <td>10.16</td>\n",
       "      <td>472</td>\n",
       "      <td>0</td>\n",
       "      <td>2</td>\n",
       "      <td>0</td>\n",
       "      <td>0</td>\n",
       "      <td>0</td>\n",
       "      <td>0</td>\n",
       "      <td>Benign</td>\n",
       "    </tr>\n",
       "    <tr>\n",
       "      <th>4</th>\n",
       "      <td>51989</td>\n",
       "      <td>15600</td>\n",
       "      <td>17</td>\n",
       "      <td>0.00</td>\n",
       "      <td>63</td>\n",
       "      <td>0</td>\n",
       "      <td>1</td>\n",
       "      <td>0</td>\n",
       "      <td>0</td>\n",
       "      <td>0</td>\n",
       "      <td>0</td>\n",
       "      <td>Benign</td>\n",
       "    </tr>\n",
       "  </tbody>\n",
       "</table>\n",
       "</div>"
      ],
      "text/plain": [
       "   L4_SRC_PORT  L4_DST_PORT  PROTOCOL  L7_PROTO  IN_BYTES  OUT_BYTES  IN_PKTS  \\\n",
       "0        63318          443         6     91.00       181        165        2   \n",
       "1        57442        15600        17      0.00        63          0        1   \n",
       "2        57452        15600        17      0.00        63          0        1   \n",
       "3          138          138        17     10.16       472          0        2   \n",
       "4        51989        15600        17      0.00        63          0        1   \n",
       "\n",
       "   OUT_PKTS  TCP_FLAGS  FLOW_DURATION_MILLISECONDS  Label  Attack  \n",
       "0         1         24                         327      0  Benign  \n",
       "1         0          0                           0      0  Benign  \n",
       "2         0          0                           0      0  Benign  \n",
       "3         0          0                           0      0  Benign  \n",
       "4         0          0                           0      0  Benign  "
      ]
     },
     "execution_count": 11,
     "metadata": {},
     "output_type": "execute_result"
    }
   ],
   "source": [
    "df.head()"
   ]
  },
  {
   "cell_type": "code",
   "execution_count": 12,
   "metadata": {},
   "outputs": [
    {
     "name": "stdout",
     "output_type": "stream",
     "text": [
      "<class 'pandas.core.frame.DataFrame'>\n",
      "RangeIndex: 99808 entries, 0 to 99807\n",
      "Data columns (total 12 columns):\n",
      "L4_SRC_PORT                   99808 non-null int64\n",
      "L4_DST_PORT                   99808 non-null int64\n",
      "PROTOCOL                      99808 non-null int64\n",
      "L7_PROTO                      99808 non-null float64\n",
      "IN_BYTES                      99808 non-null int64\n",
      "OUT_BYTES                     99808 non-null int64\n",
      "IN_PKTS                       99808 non-null int64\n",
      "OUT_PKTS                      99808 non-null int64\n",
      "TCP_FLAGS                     99808 non-null int64\n",
      "FLOW_DURATION_MILLISECONDS    99808 non-null int64\n",
      "Label                         99808 non-null int64\n",
      "Attack                        99808 non-null object\n",
      "dtypes: float64(1), int64(10), object(1)\n",
      "memory usage: 9.1+ MB\n"
     ]
    }
   ],
   "source": [
    "df.info()"
   ]
  },
  {
   "cell_type": "code",
   "execution_count": 13,
   "metadata": {},
   "outputs": [],
   "source": [
    "del df['Attack']"
   ]
  },
  {
   "cell_type": "code",
   "execution_count": 14,
   "metadata": {},
   "outputs": [],
   "source": [
    "df.to_csv('processed.csv')"
   ]
  },
  {
   "cell_type": "code",
   "execution_count": 15,
   "metadata": {},
   "outputs": [],
   "source": [
    "X = df.drop([\"Label\"],axis =1)\n",
    "y = df[\"Label\"]"
   ]
  },
  {
   "cell_type": "code",
   "execution_count": 16,
   "metadata": {},
   "outputs": [
    {
     "data": {
      "text/plain": [
       "Index(['L4_SRC_PORT', 'L4_DST_PORT', 'PROTOCOL', 'L7_PROTO', 'IN_BYTES',\n",
       "       'OUT_BYTES', 'IN_PKTS', 'OUT_PKTS', 'TCP_FLAGS',\n",
       "       'FLOW_DURATION_MILLISECONDS'],\n",
       "      dtype='object')"
      ]
     },
     "execution_count": 16,
     "metadata": {},
     "output_type": "execute_result"
    }
   ],
   "source": [
    "features = X.columns\n",
    "features"
   ]
  },
  {
   "cell_type": "code",
   "execution_count": 17,
   "metadata": {},
   "outputs": [
    {
     "name": "stdout",
     "output_type": "stream",
     "text": [
      "(79846, 10) (79846,)\n",
      "(19962, 10) (19962,)\n"
     ]
    }
   ],
   "source": [
    "X_train, X_test, y_train, y_test = train_test_split(X, y, test_size=0.2)\n",
    "print (X_train.shape, y_train.shape)\n",
    "print( X_test.shape, y_test.shape)"
   ]
  },
  {
   "cell_type": "code",
   "execution_count": 18,
   "metadata": {},
   "outputs": [],
   "source": [
    "from sklearn.metrics import accuracy_score, precision_score, recall_score, f1_score"
   ]
  },
  {
   "cell_type": "code",
   "execution_count": 69,
   "metadata": {},
   "outputs": [],
   "source": [
    "ML_Model = []\n",
    "accuracy = []\n",
    "precision = []\n",
    "recall = []\n",
    "fscore = []\n",
    "\n",
    "#function to call for storing the results\n",
    "def storeResults(model, a,b,c,d):\n",
    "    ML_Model.append(model)\n",
    "    accuracy.append(round(a, 3))\n",
    "    precision.append(round(b, 3))\n",
    "    recall.append(round(c, 3))\n",
    "    fscore.append(round(d, 3))"
   ]
  },
  {
   "cell_type": "code",
   "execution_count": 20,
   "metadata": {},
   "outputs": [],
   "source": [
    "from tensorflow.keras.models import Sequential\n",
    "from tensorflow.keras.layers import Dense\n",
    "from tensorflow.keras.models import Model, load_model\n",
    "from tensorflow.keras.utils import to_categorical\n",
    "from tensorflow.keras.layers import Dropout\n",
    "from tensorflow.keras.layers import Flatten\n",
    "from tensorflow.keras.layers import Conv1D\n",
    "from tensorflow.keras.layers import MaxPooling1D"
   ]
  },
  {
   "cell_type": "code",
   "execution_count": 21,
   "metadata": {},
   "outputs": [],
   "source": [
    "X_train=X_train.values\n",
    "X_test=X_test.values\n",
    "\n",
    "X_train = X_train.reshape(-1, X_train.shape[1],1)\n",
    "X_test = X_test.reshape(-1, X_test.shape[1],1)\n",
    "\n",
    "Y_train=to_categorical(y_train)\n",
    "Y_test=to_categorical(y_test)"
   ]
  },
  {
   "cell_type": "markdown",
   "metadata": {},
   "source": [
    "# CNN"
   ]
  },
  {
   "cell_type": "code",
   "execution_count": 26,
   "metadata": {},
   "outputs": [
    {
     "name": "stdout",
     "output_type": "stream",
     "text": [
      "Model: \"sequential_2\"\n",
      "_________________________________________________________________\n",
      "Layer (type)                 Output Shape              Param #   \n",
      "=================================================================\n",
      "conv1d_2 (Conv1D)            (None, 9, 128)            384       \n",
      "_________________________________________________________________\n",
      "max_pooling1d_2 (MaxPooling1 (None, 4, 128)            0         \n",
      "_________________________________________________________________\n",
      "dropout_2 (Dropout)          (None, 4, 128)            0         \n",
      "_________________________________________________________________\n",
      "flatten_2 (Flatten)          (None, 512)               0         \n",
      "_________________________________________________________________\n",
      "dense_2 (Dense)              (None, 2)                 1026      \n",
      "=================================================================\n",
      "Total params: 1,410\n",
      "Trainable params: 1,410\n",
      "Non-trainable params: 0\n",
      "_________________________________________________________________\n"
     ]
    }
   ],
   "source": [
    "from tensorflow.keras.models import Sequential\n",
    "from tensorflow.keras.layers import Dense\n",
    "from tensorflow.keras.models import Model, load_model\n",
    "from tensorflow.keras.utils import to_categorical\n",
    "from tensorflow.keras.layers import Dropout\n",
    "from tensorflow.keras.layers import Flatten\n",
    "from tensorflow.keras.layers import Conv1D\n",
    "from tensorflow.keras.layers import MaxPooling1D\n",
    "\n",
    "verbose, epoch, batch_size = 1, 100, 2\n",
    "activationFunction='relu'\n",
    "\n",
    "def CNN():\n",
    "    \n",
    "    cnnmodel = Sequential()\n",
    "    cnnmodel.add(Conv1D(filters=128, kernel_size=2, activation='relu',input_shape=(X_train.shape[1],X_train.shape[2])))\n",
    "    cnnmodel.add(MaxPooling1D(pool_size=2))\n",
    "    cnnmodel.add(Dropout(rate=0.2))\n",
    "    cnnmodel.add(Flatten())\n",
    "    cnnmodel.add(Dense(2, activation='softmax'))\n",
    "    cnnmodel.compile(optimizer='adam', loss='categorical_crossentropy',metrics=['accuracy'])\n",
    "    cnnmodel.summary()\n",
    "    return cnnmodel\n",
    "\n",
    "cnnmodel = CNN()"
   ]
  },
  {
   "cell_type": "code",
   "execution_count": 27,
   "metadata": {},
   "outputs": [
    {
     "name": "stdout",
     "output_type": "stream",
     "text": [
      "Epoch 1/5\n",
      "31938/31938 [==============================] - 86s 3ms/step - loss: 62.1214 - accuracy: 0.9659 - val_loss: 18.4991 - val_accuracy: 0.9835\n",
      "Epoch 2/5\n",
      "31938/31938 [==============================] - 86s 3ms/step - loss: 21.9590 - accuracy: 0.9715 - val_loss: 2.6799 - val_accuracy: 0.9934\n",
      "Epoch 3/5\n",
      "31938/31938 [==============================] - 86s 3ms/step - loss: 23.2356 - accuracy: 0.9760 - val_loss: 49.7194 - val_accuracy: 0.8771\n",
      "Epoch 4/5\n",
      "31938/31938 [==============================] - 86s 3ms/step - loss: 10.1993 - accuracy: 0.9843 - val_loss: 1.4074 - val_accuracy: 0.9964\n",
      "Epoch 5/5\n",
      "31938/31938 [==============================] - 85s 3ms/step - loss: 5.3684 - accuracy: 0.9828 - val_loss: 0.6170 - val_accuracy: 0.9844\n"
     ]
    }
   ],
   "source": [
    "modelhistory = cnnmodel.fit(X_train, Y_train, epochs=5, verbose=verbose, validation_split=0.2, batch_size = batch_size)"
   ]
  },
  {
   "cell_type": "code",
   "execution_count": 29,
   "metadata": {},
   "outputs": [
    {
     "data": {
      "image/png": "[encoded data removed]",
      "text/plain": [
       "<Figure size 432x288 with 1 Axes>"
      ]
     },
     "metadata": {
      "needs_background": "light"
     },
     "output_type": "display_data"
    },
    {
     "data": {
      "image/png": "[encoded data removed]",
      "text/plain": [
       "<Figure size 432x288 with 1 Axes>"
      ]
     },
     "metadata": {
      "needs_background": "light"
     },
     "output_type": "display_data"
    }
   ],
   "source": [
    "# Plot of accuracy vs epoch for train and test dataset\n",
    "import matplotlib.pyplot as plt\n",
    "plt.plot(modelhistory.history['accuracy'])\n",
    "plt.plot(modelhistory.history['val_accuracy'])\n",
    "plt.title(\"Plot of accuracy vs epoch for train and test dataset\")\n",
    "plt.ylabel('accuracy')\n",
    "plt.xlabel('epoch')\n",
    "plt.show()\n",
    "\n",
    "# Plot of loss vs epoch for train and test dataset\n",
    "plt.plot(modelhistory.history['loss'])\n",
    "plt.plot(modelhistory.history['val_loss'])\n",
    "plt.title(\"Plot of loss vs epoch for train and test dataset\")\n",
    "plt.ylabel('loss')\n",
    "plt.xlabel('epoch')\n",
    "plt.legend(['train', 'test'], loc='upper right')\n",
    "plt.show()"
   ]
  },
  {
   "cell_type": "code",
   "execution_count": 30,
   "metadata": {},
   "outputs": [
    {
     "name": "stdout",
     "output_type": "stream",
     "text": [
      "624/624 [==============================] - 0s 576us/step\n",
      "624/624 [==============================] - 0s 534us/step\n"
     ]
    }
   ],
   "source": [
    "cnnpredictions = cnnmodel.predict(X_test, verbose=1)\n",
    "cnn_predict=np.argmax(cnnpredictions,axis=1)\n",
    "\n",
    "y_pred = cnnmodel.predict(X_test, verbose=1)\n",
    "y_pred = np.argmax(y_pred,axis=1)\n",
    "\n",
    "#y_prob = cnnmodel.predict_proba(X_test)[:, 1]\n",
    "\n",
    "cnn_acc = accuracy_score(y_pred, y_test)\n",
    "cnn_prec = precision_score(y_pred, y_test,average='weighted')\n",
    "cnn_rec = recall_score(y_pred, y_test,average='weighted')\n",
    "cnn_f1 = f1_score(y_pred, y_test,average='weighted')\n",
    "\n",
    "#storeResults('CNN',dl_acc,dl_prec,dl_rec,dl_f1)"
   ]
  },
  {
   "cell_type": "code",
   "execution_count": 70,
   "metadata": {},
   "outputs": [],
   "source": [
    "storeResults('CNN',cnn_acc,cnn_prec,cnn_rec,cnn_f1)"
   ]
  },
  {
   "cell_type": "markdown",
   "metadata": {},
   "source": [
    "# CNN LSTM"
   ]
  },
  {
   "cell_type": "code",
   "execution_count": 35,
   "metadata": {},
   "outputs": [
    {
     "name": "stdout",
     "output_type": "stream",
     "text": [
      "Model: \"sequential\"\n",
      "_________________________________________________________________\n",
      "Layer (type)                 Output Shape              Param #   \n",
      "=================================================================\n",
      "conv1d (Conv1D)              (None, 10, 64)            384       \n",
      "_________________________________________________________________\n",
      "max_pooling1d (MaxPooling1D) (None, 9, 64)             0         \n",
      "_________________________________________________________________\n",
      "conv1d_1 (Conv1D)            (None, 9, 32)             6176      \n",
      "_________________________________________________________________\n",
      "max_pooling1d_1 (MaxPooling1 (None, 8, 32)             0         \n",
      "_________________________________________________________________\n",
      "lstm (LSTM)                  (None, 8, 128)            82432     \n",
      "_________________________________________________________________\n",
      "flatten (Flatten)            (None, 1024)              0         \n",
      "_________________________________________________________________\n",
      "dense (Dense)                (None, 128)               131200    \n",
      "_________________________________________________________________\n",
      "dropout (Dropout)            (None, 128)               0         \n",
      "_________________________________________________________________\n",
      "dense_1 (Dense)              (None, 32)                4128      \n",
      "_________________________________________________________________\n",
      "dropout_1 (Dropout)          (None, 32)                0         \n",
      "_________________________________________________________________\n",
      "dense_2 (Dense)              (None, 2)                 66        \n",
      "=================================================================\n",
      "Total params: 224,386\n",
      "Trainable params: 224,386\n",
      "Non-trainable params: 0\n",
      "_________________________________________________________________\n"
     ]
    }
   ],
   "source": [
    "import tensorflow as tf\n",
    "tf.keras.backend.clear_session()\n",
    "\n",
    "model_en = tf.keras.models.Sequential([tf.keras.layers.Conv1D(filters=64,kernel_size=5,strides=1,padding=\"causal\",activation=\"relu\",input_shape=(X_train.shape[1],X_train.shape[2])),\n",
    "    tf.keras.layers.MaxPooling1D(pool_size=2, strides=1, padding=\"valid\"),\n",
    "    tf.keras.layers.Conv1D(filters=32, kernel_size=3, strides=1, padding=\"causal\", activation=\"relu\"),\n",
    "    tf.keras.layers.MaxPooling1D(pool_size=2, strides=1, padding=\"valid\"),\n",
    "    tf.keras.layers.LSTM(128, return_sequences=True),\n",
    "    tf.keras.layers.Flatten(),\n",
    "    tf.keras.layers.Dense(128, activation=\"relu\"),\n",
    "    tf.keras.layers.Dropout(0.2),\n",
    "    tf.keras.layers.Dense(32, activation=\"relu\"),\n",
    "    tf.keras.layers.Dropout(0.1),\n",
    "    tf.keras.layers.Dense(2)\n",
    "])\n",
    "\n",
    "lr_schedule = tf.keras.optimizers.schedules.ExponentialDecay(5e-4,\n",
    "                                                             decay_steps=1000000,\n",
    "                                                             decay_rate=0.98,\n",
    "                                                             staircase=False)\n",
    "\n",
    "model_en.compile(loss=tf.keras.losses.MeanSquaredError(),\n",
    "              optimizer=tf.keras.optimizers.SGD(learning_rate=lr_schedule, momentum=0.8),\n",
    "              metrics=['acc'])\n",
    "model_en.summary()"
   ]
  },
  {
   "cell_type": "code",
   "execution_count": 36,
   "metadata": {},
   "outputs": [
    {
     "name": "stdout",
     "output_type": "stream",
     "text": [
      "Epoch 1/5\n",
      "31938/31938 [==============================] - 202s 6ms/step - loss: 0.0327 - acc: 0.9700 - val_loss: 0.0251 - val_acc: 0.9755\n",
      "Epoch 2/5\n",
      "31938/31938 [==============================] - 201s 6ms/step - loss: 0.0295 - acc: 0.9695 - val_loss: 0.0198 - val_acc: 0.9802\n",
      "Epoch 3/5\n",
      "31938/31938 [==============================] - 200s 6ms/step - loss: 0.0227 - acc: 0.9778 - val_loss: 0.0188 - val_acc: 0.9804\n",
      "Epoch 4/5\n",
      "31938/31938 [==============================] - 198s 6ms/step - loss: 0.0221 - acc: 0.9787 - val_loss: 0.0205 - val_acc: 0.9796\n",
      "Epoch 5/5\n",
      "31938/31938 [==============================] - 202s 6ms/step - loss: 0.0218 - acc: 0.9787 - val_loss: 0.0194 - val_acc: 0.9803\n"
     ]
    }
   ],
   "source": [
    "modelhistory = model_en.fit(X_train, Y_train, epochs=5, verbose=verbose, validation_split=0.2, batch_size = 2)"
   ]
  },
  {
   "cell_type": "code",
   "execution_count": 37,
   "metadata": {},
   "outputs": [
    {
     "data": {
      "image/png": "[encoded data removed]",
      "text/plain": [
       "<Figure size 432x288 with 1 Axes>"
      ]
     },
     "metadata": {
      "needs_background": "light"
     },
     "output_type": "display_data"
    },
    {
     "data": {
      "image/png": "[encoded data removed]",
      "text/plain": [
       "<Figure size 432x288 with 1 Axes>"
      ]
     },
     "metadata": {
      "needs_background": "light"
     },
     "output_type": "display_data"
    }
   ],
   "source": [
    "# Plot of accuracy vs epoch for train and test dataset\n",
    "plt.plot(modelhistory.history['acc'])\n",
    "plt.plot(modelhistory.history['val_acc'])\n",
    "plt.title(\"Plot of accuracy vs epoch for train and test dataset\")\n",
    "plt.ylabel('accuracy')\n",
    "plt.xlabel('epoch')\n",
    "plt.show()\n",
    "\n",
    "# Plot of loss vs epoch for train and test dataset\n",
    "plt.plot(modelhistory.history['loss'])\n",
    "plt.plot(modelhistory.history['val_loss'])\n",
    "plt.title(\"Plot of loss vs epoch for train and test dataset\")\n",
    "plt.ylabel('loss')\n",
    "plt.xlabel('epoch')\n",
    "plt.legend(['train', 'test'], loc='upper right')\n",
    "plt.show()"
   ]
  },
  {
   "cell_type": "code",
   "execution_count": 38,
   "metadata": {},
   "outputs": [
    {
     "name": "stdout",
     "output_type": "stream",
     "text": [
      "624/624 [==============================] - 2s 2ms/step\n"
     ]
    }
   ],
   "source": [
    "y_pred = model_en.predict(X_test, verbose=1)\n",
    "y_pred = np.argmax(y_pred,axis=1)\n",
    "\n",
    "#y_prob = cnnmodel.predict_proba(X_test)[:, 1]\n",
    "\n",
    "ense_acc = accuracy_score(y_pred, y_test)\n",
    "ense_prec = precision_score(y_pred, y_test,average='weighted')\n",
    "ense_rec = recall_score(y_pred, y_test,average='weighted')\n",
    "ense_f1 = f1_score(y_pred, y_test,average='weighted')\n",
    "\n",
    "#storeResults('CNNLSTM-NIDS',dl_acc,dl_prec,dl_rec,dl_f1)"
   ]
  },
  {
   "cell_type": "code",
   "execution_count": 71,
   "metadata": {},
   "outputs": [],
   "source": [
    "storeResults('CNN + LSTM',ense_acc,ense_prec,ense_rec,ense_f1)"
   ]
  },
  {
   "cell_type": "markdown",
   "metadata": {},
   "source": [
    "# LSTM"
   ]
  },
  {
   "cell_type": "code",
   "execution_count": 40,
   "metadata": {},
   "outputs": [],
   "source": [
    "from keras.callbacks import EarlyStopping\n",
    "from keras.utils import np_utils\n",
    "from keras.callbacks import ModelCheckpoint\n",
    "from sklearn.metrics import accuracy_score\n",
    "from sklearn.metrics import classification_report, confusion_matrix\n",
    "from keras.models import Sequential\n",
    "from keras.utils import np_utils\n",
    "from keras.layers import LSTM,GRU, Dense, Embedding, Dropout,Input, Attention, Layer, Concatenate, Permute, Dot, Multiply, Flatten\n",
    "from keras.layers import RepeatVector, Dense, Activation, Lambda\n",
    "from keras.models import Sequential\n",
    "from keras import backend as K, regularizers, Model, metrics\n",
    "from keras.backend import cast"
   ]
  },
  {
   "cell_type": "code",
   "execution_count": 41,
   "metadata": {},
   "outputs": [],
   "source": [
    "from sklearn.preprocessing import StandardScaler\n",
    "## Standardizing the data\n",
    "X_r2 = StandardScaler().fit_transform(X)"
   ]
  },
  {
   "cell_type": "code",
   "execution_count": 42,
   "metadata": {},
   "outputs": [],
   "source": [
    "X_train,X_test,y_train,y_test = train_test_split(X_r2, y, test_size=0.3)"
   ]
  },
  {
   "cell_type": "code",
   "execution_count": 43,
   "metadata": {},
   "outputs": [],
   "source": [
    "# design network\n",
    "np.random.seed(7)\n",
    "\n",
    "# X_train et X_val sont des dataframe qui contient les features\n",
    "train_X=X_train\n",
    "val_X=X_test"
   ]
  },
  {
   "cell_type": "code",
   "execution_count": 44,
   "metadata": {},
   "outputs": [],
   "source": [
    "## Reshape input to be 3D [samples, timesteps, features] (format requis par LSTM)\n",
    "train_X = train_X.reshape((train_X.shape[0], 1, train_X.shape[1]))\n",
    "val_X = val_X.reshape((val_X.shape[0], 1, val_X.shape[1]))"
   ]
  },
  {
   "cell_type": "code",
   "execution_count": 45,
   "metadata": {},
   "outputs": [],
   "source": [
    "## Recuperation des labels\n",
    "train_y=y_train\n",
    "val_y=y_test"
   ]
  },
  {
   "cell_type": "code",
   "execution_count": 46,
   "metadata": {},
   "outputs": [],
   "source": [
    "class attention(Layer):\n",
    "    def __init__(self,**kwargs):\n",
    "        super(attention,self).__init__(**kwargs)\n",
    "\n",
    "    def build(self,input_shape):\n",
    "        self.W=self.add_weight(name=\"att_weight\",shape=(input_shape[-1],1),initializer=\"normal\")\n",
    "        self.b=self.add_weight(name=\"att_bias\",shape=(input_shape[1],1),initializer=\"zeros\")        \n",
    "        super(attention, self).build(input_shape)\n",
    "\n",
    "    def call(self,x):\n",
    "        et=K.squeeze(K.tanh(K.dot(x,self.W)+self.b),axis=-1)\n",
    "        at=K.softmax(et)\n",
    "        at=K.expand_dims(at,axis=-1)\n",
    "        output=x*at\n",
    "        return K.sum(output,axis=1)\n",
    "\n",
    "    def compute_output_shape(self,input_shape):\n",
    "        return (input_shape[0],input_shape[-1])\n",
    "\n",
    "    def get_config(self):\n",
    "        return super(attention,self).get_config()"
   ]
  },
  {
   "cell_type": "code",
   "execution_count": 57,
   "metadata": {},
   "outputs": [
    {
     "name": "stdout",
     "output_type": "stream",
     "text": [
      "WARNING:tensorflow:Layer lstm_6 will not use cuDNN kernels since it doesn't meet the criteria. It will use a generic GPU kernel as fallback when running on GPU.\n",
      "WARNING:tensorflow:Layer lstm_7 will not use cuDNN kernels since it doesn't meet the criteria. It will use a generic GPU kernel as fallback when running on GPU.\n"
     ]
    }
   ],
   "source": [
    "inputs1=Input((1,10))\n",
    "att_in=LSTM(50,return_sequences=True,dropout=0.3,recurrent_dropout=0.2)(inputs1)\n",
    "att_in_1=LSTM(50,return_sequences=True,dropout=0.3,recurrent_dropout=0.2)(att_in)\n",
    "att_out=attention()(att_in_1)\n",
    "outputs1=Dense(1,activation='sigmoid',trainable=True)(att_out)\n",
    "model1=Model(inputs1,outputs1)"
   ]
  },
  {
   "cell_type": "code",
   "execution_count": 58,
   "metadata": {},
   "outputs": [],
   "source": [
    "model1.compile(loss='binary_crossentropy', optimizer='adam', metrics=['accuracy'])"
   ]
  },
  {
   "cell_type": "code",
   "execution_count": 59,
   "metadata": {},
   "outputs": [
    {
     "name": "stdout",
     "output_type": "stream",
     "text": [
      "Epoch 1/5\n",
      "100/100 [==============================] - 7s 35ms/step - loss: 0.6385 - accuracy: 0.9054 - val_loss: 0.3664 - val_accuracy: 0.9550\n",
      "Epoch 2/5\n",
      "100/100 [==============================] - 2s 24ms/step - loss: 0.3101 - accuracy: 0.9229 - val_loss: 0.1327 - val_accuracy: 0.9550\n",
      "Epoch 3/5\n",
      "100/100 [==============================] - 2s 24ms/step - loss: 0.1586 - accuracy: 0.9312 - val_loss: 0.1115 - val_accuracy: 0.9550\n",
      "Epoch 4/5\n",
      "100/100 [==============================] - 2s 24ms/step - loss: 0.0801 - accuracy: 0.9781 - val_loss: 0.1008 - val_accuracy: 0.9550\n",
      "Epoch 5/5\n",
      "100/100 [==============================] - 2s 25ms/step - loss: 0.0783 - accuracy: 0.9704 - val_loss: 0.0763 - val_accuracy: 0.9550\n"
     ]
    }
   ],
   "source": [
    "history=model1.fit(train_X, train_y,epochs=5,batch_size=2, validation_data=(val_X, val_y),steps_per_epoch=100,validation_steps=100)"
   ]
  },
  {
   "cell_type": "code",
   "execution_count": 60,
   "metadata": {},
   "outputs": [
    {
     "name": "stdout",
     "output_type": "stream",
     "text": [
      "Train: 0.953, Test: 0.954\n"
     ]
    }
   ],
   "source": [
    "# evaluate the model\n",
    "_, train_acc = model1.evaluate(train_X, train_y, verbose=0)\n",
    "_, test_acc = model1.evaluate(val_X, val_y, verbose=0)\n",
    "print('Train: %.3f, Test: %.3f' % (train_acc, test_acc))"
   ]
  },
  {
   "cell_type": "code",
   "execution_count": 72,
   "metadata": {},
   "outputs": [
    {
     "name": "stdout",
     "output_type": "stream",
     "text": [
      "936/936 [==============================] - 3s 3ms/step\n"
     ]
    }
   ],
   "source": [
    "y_pred = model1.predict(val_X, verbose=1)\n",
    "y_pred = np.argmax(y_pred,axis=1)\n",
    "lstm_acc = test_acc\n",
    "lstm_prec = precision_score(y_pred, val_y,average='weighted')\n",
    "lstm_rec = recall_score(y_pred, val_y,average='weighted')\n",
    "lstm_f1 = f1_score(y_pred, val_y,average='weighted')"
   ]
  },
  {
   "cell_type": "code",
   "execution_count": 74,
   "metadata": {},
   "outputs": [],
   "source": [
    "storeResults('LSTM',lstm_acc,lstm_prec,lstm_rec,lstm_f1)"
   ]
  },
  {
   "cell_type": "markdown",
   "metadata": {},
   "source": [
    "# Comparison"
   ]
  },
  {
   "cell_type": "code",
   "execution_count": 75,
   "metadata": {},
   "outputs": [],
   "source": [
    "#creating dataframe\n",
    "result = pd.DataFrame({ 'ML Model' : ML_Model,\n",
    "                        'Accuracy' : accuracy,\n",
    "                        'f1_score' : fscore,\n",
    "                        'Recall'   : recall,\n",
    "                        'Precision': precision,\n",
    "                        \n",
    "                      })"
   ]
  },
  {
   "cell_type": "code",
   "execution_count": 76,
   "metadata": {},
   "outputs": [
    {
     "data": {
      "text/html": [
       "<div>\n",
       "<style scoped>\n",
       "    .dataframe tbody tr th:only-of-type {\n",
       "        vertical-align: middle;\n",
       "    }\n",
       "\n",
       "    .dataframe tbody tr th {\n",
       "        vertical-align: top;\n",
       "    }\n",
       "\n",
       "    .dataframe thead th {\n",
       "        text-align: right;\n",
       "    }\n",
       "</style>\n",
       "<table border=\"1\" class=\"dataframe\">\n",
       "  <thead>\n",
       "    <tr style=\"text-align: right;\">\n",
       "      <th></th>\n",
       "      <th>ML Model</th>\n",
       "      <th>Accuracy</th>\n",
       "      <th>f1_score</th>\n",
       "      <th>Recall</th>\n",
       "      <th>Precision</th>\n",
       "    </tr>\n",
       "  </thead>\n",
       "  <tbody>\n",
       "    <tr>\n",
       "      <th>0</th>\n",
       "      <td>CNN</td>\n",
       "      <td>0.985</td>\n",
       "      <td>0.986</td>\n",
       "      <td>0.985</td>\n",
       "      <td>0.987</td>\n",
       "    </tr>\n",
       "    <tr>\n",
       "      <th>1</th>\n",
       "      <td>CNN + LSTM</td>\n",
       "      <td>0.981</td>\n",
       "      <td>0.983</td>\n",
       "      <td>0.981</td>\n",
       "      <td>0.986</td>\n",
       "    </tr>\n",
       "    <tr>\n",
       "      <th>2</th>\n",
       "      <td>LSTM</td>\n",
       "      <td>0.954</td>\n",
       "      <td>0.133</td>\n",
       "      <td>0.071</td>\n",
       "      <td>1.000</td>\n",
       "    </tr>\n",
       "  </tbody>\n",
       "</table>\n",
       "</div>"
      ],
      "text/plain": [
       "     ML Model  Accuracy  f1_score  Recall  Precision\n",
       "0         CNN     0.985     0.986   0.985      0.987\n",
       "1  CNN + LSTM     0.981     0.983   0.981      0.986\n",
       "2        LSTM     0.954     0.133   0.071      1.000"
      ]
     },
     "execution_count": 76,
     "metadata": {},
     "output_type": "execute_result"
    }
   ],
   "source": [
    "result"
   ]
  },
  {
   "cell_type": "markdown",
   "metadata": {},
   "source": [
    "# Modelling"
   ]
  },
  {
   "cell_type": "code",
   "execution_count": 77,
   "metadata": {},
   "outputs": [],
   "source": [
    "cnnmodel.save('model_cnn.h5')\n",
    "model_en.save('model_hyd.h5')"
   ]
  },
  {
   "cell_type": "markdown",
   "metadata": {},
   "source": [
    "# Graph"
   ]
  },
  {
   "cell_type": "code",
   "execution_count": 78,
   "metadata": {},
   "outputs": [],
   "source": [
    "classifier = ML_Model\n",
    "y_pos = np.arange(len(classifier))"
   ]
  },
  {
   "cell_type": "markdown",
   "metadata": {},
   "source": [
    "# Accuracy"
   ]
  },
  {
   "cell_type": "code",
   "execution_count": 79,
   "metadata": {},
   "outputs": [
    {
     "data": {
      "image/png": "[encoded data removed]",
      "text/plain": [
       "<Figure size 432x288 with 1 Axes>"
      ]
     },
     "metadata": {
      "needs_background": "light"
     },
     "output_type": "display_data"
    }
   ],
   "source": [
    "import matplotlib.pyplot as plt2\n",
    "plt2.barh(y_pos, accuracy, align='center', alpha=0.5,color='blue')\n",
    "plt2.yticks(y_pos, classifier)\n",
    "plt2.xlabel('Accuracy Score')\n",
    "plt2.title('Classification Performance')\n",
    "plt2.show()"
   ]
  },
  {
   "cell_type": "markdown",
   "metadata": {},
   "source": [
    "# Precision"
   ]
  },
  {
   "cell_type": "code",
   "execution_count": 80,
   "metadata": {},
   "outputs": [
    {
     "data": {
      "image/png": "[encoded data removed]",
      "text/plain": [
       "<Figure size 432x288 with 1 Axes>"
      ]
     },
     "metadata": {
      "needs_background": "light"
     },
     "output_type": "display_data"
    }
   ],
   "source": [
    "plt2.barh(y_pos, precision, align='center', alpha=0.5,color='red')\n",
    "plt2.yticks(y_pos, classifier)\n",
    "plt2.xlabel('Precision Score')\n",
    "plt2.title('Classification Performance')\n",
    "plt2.show()"
   ]
  },
  {
   "cell_type": "markdown",
   "metadata": {},
   "source": [
    "# Recall"
   ]
  },
  {
   "cell_type": "code",
   "execution_count": 81,
   "metadata": {},
   "outputs": [
    {
     "data": {
      "image/png": "[encoded data removed]",
      "text/plain": [
       "<Figure size 432x288 with 1 Axes>"
      ]
     },
     "metadata": {
      "needs_background": "light"
     },
     "output_type": "display_data"
    }
   ],
   "source": [
    "plt2.barh(y_pos, recall, align='center', alpha=0.5,color='yellow')\n",
    "plt2.yticks(y_pos, classifier)\n",
    "plt2.xlabel('Recall Score')\n",
    "plt2.title('Classification Performance')\n",
    "plt2.show()"
   ]
  },
  {
   "cell_type": "markdown",
   "metadata": {},
   "source": [
    "# F1 Score"
   ]
  },
  {
   "cell_type": "code",
   "execution_count": 82,
   "metadata": {},
   "outputs": [
    {
     "data": {
      "image/png": "[encoded data removed]",
      "text/plain": [
       "<Figure size 432x288 with 1 Axes>"
      ]
     },
     "metadata": {
      "needs_background": "light"
     },
     "output_type": "display_data"
    }
   ],
   "source": [
    "plt2.barh(y_pos, fscore, align='center', alpha=0.5,color='pink')\n",
    "plt2.yticks(y_pos, classifier)\n",
    "plt2.xlabel('F1 Score')\n",
    "plt2.title('Classification Performance')\n",
    "plt2.show()"
   ]
  },
  {
   "cell_type": "code",
   "execution_count": null,
   "metadata": {},
   "outputs": [],
   "source": []
  }
 ],
 "metadata": {
  "kernelspec": {
   "display_name": "Python 3",
   "language": "python",
   "name": "python3"
  },
  "language_info": {
   "codemirror_mode": {
    "name": "ipython",
    "version": 3
   },
   "file_extension": ".py",
   "mimetype": "text/x-python",
   "name": "python",
   "nbconvert_exporter": "python",
   "pygments_lexer": "ipython3",
   "version": "3.7.4"
  }
 },
 "nbformat": 4,
 "nbformat_minor": 2
}
